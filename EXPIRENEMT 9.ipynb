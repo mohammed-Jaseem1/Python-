{
 "cells": [
  {
   "cell_type": "code",
   "execution_count": 19,
   "id": "783eefe8",
   "metadata": {},
   "outputs": [
    {
     "name": "stdout",
     "output_type": "stream",
     "text": [
      "['mohammed jaseem\\n', 'ksb\\n', 'mca\\n']\n"
     ]
    }
   ],
   "source": [
    "#Write a Python program to read a file line by line and store it into a list. \n",
    "f=open(\"name.txt\",\"r\")\n",
    "print(f.readlines())"
   ]
  },
  {
   "cell_type": "code",
   "execution_count": 36,
   "id": "1cde4c71",
   "metadata": {},
   "outputs": [
    {
     "name": "stdout",
     "output_type": "stream",
     "text": [
      "Enter the source file: file1.txt\n",
      "Enter destination file: file2.txt\n",
      "succesful\n",
      "succesful\n",
      "succesful\n",
      "succesful\n"
     ]
    }
   ],
   "source": [
    "#Python program to copy odd lines of one file to other \n",
    "file1 = input(\"Enter the source file: \")\n",
    "file2 = input(\"Enter destination file: \")\n",
    "with open(file1, \"r\") as f1, open(file2, \"w\") as f2:\n",
    "    i = 0\n",
    "    for line in f1.readlines():\n",
    "        i += 1     \n",
    "        if i % 2 != 0:\n",
    "            f2.write(line)\n",
    "            print(\"succesful\")\n"
   ]
  },
  {
   "cell_type": "code",
   "execution_count": 12,
   "id": "62debc62",
   "metadata": {},
   "outputs": [
    {
     "name": "stdout",
     "output_type": "stream",
     "text": [
      "enter the file name:name.csv\n",
      "['mohammed jaseem']\n",
      "['ksb']\n",
      "['mca']\n"
     ]
    }
   ],
   "source": [
    "#Write a Python program to read each row from a given csv file and print a list of strings. \n",
    "import csv\n",
    "\n",
    "fname=input(\"enter the file name:\")\n",
    "\n",
    "f1=open(fname,\"r\")\n",
    "reader = csv.reader(f1)\n",
    "\n",
    "for row in reader:\n",
    "    print(row)\n",
    "\n",
    "f1.close()"
   ]
  },
  {
   "cell_type": "code",
   "execution_count": 4,
   "id": "25f0f8a9",
   "metadata": {},
   "outputs": [
    {
     "name": "stdout",
     "output_type": "stream",
     "text": [
      "Enter the file name: mv.cvs\n",
      "Enter the column indices: 0,1\n",
      "['1', 'jaseem']\n",
      "['2', 'roshan']\n"
     ]
    }
   ],
   "source": [
    "#Write a Python program to read specific columns of a given CSV file and print the content of the columns. \n",
    "import csv\n",
    "\n",
    "fname = input(\"Enter the file name: \")\n",
    "col_input = input(\"Enter the column indices: \")\n",
    "col_to_read = [int(index) for index in col_input.split(',')]  \n",
    "\n",
    "with open(fname, \"r\") as f1:\n",
    "    reader = csv.reader(f1)\n",
    "\n",
    "    for row in reader:\n",
    "        sel_col = [row[i] for i in col_to_read if i < len(row)]  \n",
    "        print(sel_col)\n"
   ]
  },
  {
   "cell_type": "code",
   "execution_count": 15,
   "id": "27df7896",
   "metadata": {},
   "outputs": [
    {
     "name": "stdout",
     "output_type": "stream",
     "text": [
      "enter name:jaseem linto\n",
      "enter the citiesbombay kerala\n",
      "\n",
      " the content of the file:\n",
      "['name', 'city']\n",
      "['jaseem', 'bombay']\n",
      "['linto', 'kerala']\n"
     ]
    }
   ],
   "source": [
    "#Write a Python program to write a Python dictionary to a csv file. After writing the CSV fileread the CSV file and display the content.\n",
    "import csv\n",
    " \n",
    "data =dict(zip(input(\"enter name:\").split(),input(\"enter the cities\").split()))\n",
    "\n",
    "with open('output.csv','w',newline='')as f:\n",
    "    w=csv.writer(f)\n",
    "    w.writerow([\"name\",\"city\"])\n",
    "    w.writerows(data.items())\n",
    "    \n",
    "with open('output.csv','r')as f:\n",
    "    print(\"\\n the content of the file:\",*csv.reader(f),sep='\\n')\n",
    "    "
   ]
  },
  {
   "cell_type": "code",
   "execution_count": null,
   "id": "db65c7c1",
   "metadata": {},
   "outputs": [],
   "source": []
  }
 ],
 "metadata": {
  "kernelspec": {
   "display_name": "Python 3 (ipykernel)",
   "language": "python",
   "name": "python3"
  },
  "language_info": {
   "codemirror_mode": {
    "name": "ipython",
    "version": 3
   },
   "file_extension": ".py",
   "mimetype": "text/x-python",
   "name": "python",
   "nbconvert_exporter": "python",
   "pygments_lexer": "ipython3",
   "version": "3.11.5"
  }
 },
 "nbformat": 4,
 "nbformat_minor": 5
}
