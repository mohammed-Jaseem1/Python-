
{
 "cells": [
  {
   "cell_type": "code",
   "execution_count": 13,
   "id": "e4ada9de",
   "metadata": {},
   "outputs": [
    {
     "name": "stdout",
     "output_type": "stream",
     "text": [
      "Enter a string :HELLO YOU ARE HELLO\n",
      "Occurenec of words : [{'HELLO': 2, 'YOU': 1, 'ARE': 1}]\n"
     ]
    }
   ],
   "source": [
    "#OCCURRRENCE  EACH WORD\n",
    "string=input(\"Enter a string :\").split()\n",
    "print(\"Occurenec of words :\",[{word:string.count(word) for word in string}])"
   ]
  },
  {
   "cell_type": "code",
   "execution_count": 4,
   "id": "6b890850",
   "metadata": {},
   "outputs": [
    {
     "name": "stdout",
     "output_type": "stream",
     "text": [
      "Enter a list of numbers (Seperated by space)22 1 3 4 555 111 2\n",
      "After storing : [22, 1, 3, 4, 'Over', 'Over', 2]\n"
     ]
    }
   ],
   "source": [
    "#GREATER 100 STORE OVER\n",
    "numbers=input(\"Enter a list of numbers (Seperated by space)\").split()\n",
    "print(\"After storing :\",[int(x) if int(x)<100 else \"Over\" for x in numbers])"
   ]
  },
  {
   "cell_type": "code",
   "execution_count": 9,
   "id": "2e1207d7",
   "metadata": {},
   "outputs": [
    {
     "name": "stdout",
     "output_type": "stream",
     "text": [
      "Enter the names (Seperated by commas) :JASEEM,ayisha\n",
      "Occurence of 'a' in names : 3\n"
     ]
    }
   ],
   "source": [
    "#\"A\" OOCURRANCE \n",
    "names=input(\"Enter the names (Seperated by commas) :\").split(\",\")\n",
    "occurence=sum([name.lower().count('a') for name in names])\n",
    "print(\"Occurence of 'a' in names :\",occurence)"
   ]
  },
  {
   "cell_type": "code",
   "execution_count": 1,
   "id": "adf5333e",
   "metadata": {},
   "outputs": [
    {
     "name": "stdout",
     "output_type": "stream",
     "text": [
      "Enter first number list :1 2 3 4 5 \n",
      "Enter second number list :5 6 7 8 9\n",
      "Is length of both list same =  ['Yes']\n",
      "Is sum of both list same =  ['No']\n",
      "Do both carry any same value=  True\n"
     ]
    }
   ],
   "source": [
    "# 2 LIST OPERATIONS\n",
    "number1=list(map(int,input(\"Enter first number list :\").split()))\n",
    "number2=list(map(int,input(\"Enter second number list :\").split()))\n",
    "length=[\"Yes\" if len(number1)==len(number2) else \"No\"]\n",
    "total=[\"Yes\" if sum(number1)==sum(number2) else \"No\"]\n",
    "print(\"Is length of both list same = \",length)\n",
    "print(\"Is sum of both list same = \",total)\n",
    "print(\"Do both carry any same value= \",any(item in number1 for item in number2 ))\n"
   ]
  },
  {
   "cell_type": "code",
   "execution_count": 12,
   "id": "47e9f46c",
   "metadata": {},
   "outputs": [
    {
     "name": "stdout",
     "output_type": "stream",
     "text": [
      "Enter a list of numbers: 1 2 3 4 5 \n",
      "Positive numbers: [1, 2, 3, 4, 5]\n",
      "Square of numbers: [1, 4, 9, 16, 25]\n",
      "Enter a word: worf\n",
      "Vowels present in the word: ['o']\n",
      "Ordinal value of characters: [119, 111, 114, 102]\n"
     ]
    }
   ],
   "source": [
    "# LIST COMPREHENSIONS\n",
    "numbers = input(\"Enter a list of numbers: \").split()\n",
    "positive = [int(x) for x in numbers if int(x) > 0]\n",
    "print(\"Positive numbers:\", positive)\n",
    "square = [int(x) * int(x) for x in numbers]\n",
    "print(\"Square of numbers:\", square)\n",
    "word = input(\"Enter a word: \")\n",
    "vowels = [char for char in word if char.lower() in 'aeiou']\n",
    "print(\"Vowels present in the word:\", vowels)\n",
    "ordial = [ord(char) for char in word]\n",
    "print(\"Ordinal value of characters:\", ordial)\n"
   ]
  }
 ],
 "metadata": {
  "kernelspec": {
   "display_name": "Python 3 (ipykernel)",
   "language": "python",
   "name": "python3"
  },
  "language_info": {
   "codemirror_mode": {
    "name": "ipython",
    "version": 3
   },
   "file_extension": ".py",
   "mimetype": "text/x-python",
   "name": "python",
   "nbconvert_exporter": "python",
   "pygments_lexer": "ipython3",
   "version": "3.11.5"
  }
 },
 "nbformat": 4,
 "nbformat_minor": 5
}
