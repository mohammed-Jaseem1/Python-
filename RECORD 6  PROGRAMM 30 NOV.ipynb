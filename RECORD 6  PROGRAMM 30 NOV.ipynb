
{
 "cells": [
  {
   "cell_type": "code",
   "execution_count": 14,
   "id": "92e4a78a",
   "metadata": {},
   "outputs": [
    {
     "name": "stdout",
     "output_type": "stream",
     "text": [
      "enter the final year2055\n",
      "future leap year 2024 to 2055:[2028, 2032, 2036, 2040, 2044, 2048, 2052]\n"
     ]
    }
   ],
   "source": [
    "#LEAP YEAR\n",
    "import datetime\n",
    "def lyear(year):\n",
    "     return (year % 4 == 0 and year % 100 != 0) or (year % 400 == 0)\n",
    "f_year=int(input(\"enter the final year\"))\n",
    "c_year=datetime.datetime.now().year\n",
    "l_year=[year for year in range(c_year + 1, f_year + 1) if lyear(year)]\n",
    "if l_year:\n",
    "    print(f\"future leap year {c_year} to {f_year}:{l_year}\" )\n",
    "else:\n",
    "    print(f\"there is no leap year between them{c_year} to {f_year}.\")\n"
   ]
  },
  {
   "cell_type": "code",
   "execution_count": 21,
   "id": "cf5a6710",
   "metadata": {},
   "outputs": [
    {
     "name": "stdout",
     "output_type": "stream",
     "text": [
      "enter the number:5\n",
      "the factorial 5 is 120.\n"
     ]
    }
   ],
   "source": [
    "def fac(n):\n",
    "    if n==0 or n==1:\n",
    "        return 1\n",
    "    else:\n",
    "        return n * fac(n - 1)\n",
    "num=int(input(\"enter the number:\"))\n",
    "if num<0:\n",
    "    print(\"negaive number\")\n",
    "else:\n",
    "    print(f\"the factorial {num} is {fac(num)}.\")\n",
    "        "
   ]
  },
  {
   "cell_type": "code",
   "execution_count": 23,
   "id": "87e713cc",
   "metadata": {},
   "outputs": [
    {
     "name": "stdout",
     "output_type": "stream",
     "text": [
      "enter the number:5\n",
      "the fibanacci series5 terms is [0, 1, 1, 2, 3]\n"
     ]
    }
   ],
   "source": [
    "#SERIES OF A FIBNACCI\n",
    "def fib(n):\n",
    "    series=[]\n",
    "    a,b=0,1\n",
    "    for x in range(n):\n",
    "        series.append(a)\n",
    "        a,b=b,a+b\n",
    "    return series\n",
    "n=int(input(\"enter the number:\"))\n",
    "print(f\"the fibanacci series{n} terms is {fib(n)}\")\n",
    "    "
   ]
  },
  {
   "cell_type": "code",
   "execution_count": 30,
   "id": "59276e0c",
   "metadata": {},
   "outputs": [
    {
     "name": "stdout",
     "output_type": "stream",
     "text": [
      "enter the word::mohammed fasyiz\n",
      "length of the longest work:8 \n"
     ]
    }
   ],
   "source": [
    "#LONGEST WORLD \n",
    "def longest_word(n):\n",
    "    l_word=max(n,key=len)\n",
    "    return len(l_word)\n",
    "n=input(\"enter the word::\").split()\n",
    "print(f\"length of the longest work:{longest_word(n)} \")"
   ]
  },
  {
   "cell_type": "code",
   "execution_count": 11,
   "id": "4e933be4",
   "metadata": {},
   "outputs": [
    {
     "name": "stdout",
     "output_type": "stream",
     "text": [
      "enter the size::5\n",
      "enter the length::1\n",
      "enter the width::2\n",
      "enter the base::4\n",
      "enter the height::3\n",
      "area of square25.0\n",
      "area of square2.0\n",
      "area of square6.0\n"
     ]
    }
   ],
   "source": [
    "#AREA OF SQUARE,RECTANGLE,TRIANGLE\n",
    "area_squ= lambda s:s**2\n",
    "area_rec= lambda l,w:l*w\n",
    "area_tra= lambda b,h:0.5*b*h\n",
    "s=float(input(\"enter the size::\"))\n",
    "l=float(input(\"enter the length::\"))\n",
    "w=float(input(\"enter the width::\"))\n",
    "b=float(input(\"enter the base::\"))\n",
    "h=float(input(\"enter the height::\"))\n",
    "print(f\"area of square{area_squ(s)}\")\n",
    "print(f\"area of square{area_rec(l,w)}\")\n",
    "print(f\"area of square{area_tra(b,h)}\")\n"
   ]
  },
  {
   "cell_type": "code",
   "execution_count": 9,
   "id": "1c5aa38f",
   "metadata": {},
   "outputs": [
    {
     "name": "stdout",
     "output_type": "stream",
     "text": [
      "Enter the number of steps (N): 6\n",
      "* \n",
      "* * \n",
      "* * * \n",
      "* * * * \n",
      "* * * * * \n",
      "* * * * * * \n",
      "* * * * * \n",
      "* * * * \n",
      "* * * \n",
      "* * \n",
      "* \n"
     ]
    }
   ],
   "source": [
    "#PYRMAID (*)\n",
    "def print_pyramid(n):\n",
    "    for i in range(1, n+1):\n",
    "        print(\"* \" * i)    \n",
    "    for i in range(n-1, 0, -1):\n",
    "        print(\"* \" * i)\n",
    "n = int(input(\"Enter the number of steps (N): \"))\n",
    "print_pyramid(n)"
   ]
  },
  {
   "cell_type": "code",
   "execution_count": 3,
   "id": "d1c44e70",
   "metadata": {},
   "outputs": [
    {
     "name": "stdout",
     "output_type": "stream",
     "text": [
      "Enter a number: 25\n",
      "Factors of 25 are: [1, 5, 25]\n"
     ]
    }
   ],
   "source": [
    "#FACTORS OF A NUMBER\n",
    "def factors(n):\n",
    "    factor_list = []\n",
    "    for i in range(1, n+1):\n",
    "        if n % i == 0:\n",
    "            factor_list.append(i)    \n",
    "    return factor_list\n",
    "number = int(input(\"Enter a number: \"))\n",
    "print(\"Factors of\", number, \"are:\", factors(number))\n"
   ]
  },
  {
   "cell_type": "code",
   "execution_count": 8,
   "id": "078d60a4",
   "metadata": {},
   "outputs": [
    {
     "name": "stdout",
     "output_type": "stream",
     "text": [
      "Enter the number of steps (N): 4\n",
      "1 \n",
      "2 4 \n",
      "3 6 9 \n",
      "4 8 12 16 \n"
     ]
    }
   ],
   "source": [
    "#PYRAMID WITH NUMBERS \n",
    "def print_pyramid(n):\n",
    "    for i in range(1, n+1):\n",
    "        for j in range(1, i+1):\n",
    "            print(i * j, end=\" \")\n",
    "        print()\n",
    "n = int(input(\"Enter the number of steps (N): \"))\n",
    "print_pyramid(n)"
   ]
  },
  {
   "cell_type": "code",
   "execution_count": null,
   "id": "9f63b60d",
   "metadata": {},
   "outputs": [],
   "source": []
  }
 ],
 "metadata": {
  "kernelspec": {
   "display_name": "Python 3 (ipykernel)",
   "language": "python",
   "name": "python3"
  },
  "language_info": {
   "codemirror_mode": {
    "name": "ipython",
    "version": 3
   },
   "file_extension": ".py",
   "mimetype": "text/x-python",
   "name": "python",
   "nbconvert_exporter": "python",
   "pygments_lexer": "ipython3",
   "version": "3.11.5"
  }
 },
 "nbformat": 4,
 "nbformat_minor": 5
}
