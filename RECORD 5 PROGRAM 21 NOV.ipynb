{
 "cells": [
  {
   "cell_type": "code",
   "execution_count": 8,
   "id": "4a6b3519",
   "metadata": {},
   "outputs": [
    {
     "name": "stdout",
     "output_type": "stream",
     "text": [
      "enter a number:5\n",
      "enter a  number:10\n",
      "GCD= 5\n"
     ]
    }
   ],
   "source": [
    "#GCD OF 2 NUMBERS\n",
    "a=int(input(\"enter a number:\"))\n",
    "b=int(input(\"enter a  number:\"))\n",
    "while b:\n",
    "    a,b=b,a%b\n",
    "print(\"GCD=\",a)\n"
   ]
  },
  {
   "cell_type": "code",
   "execution_count": 14,
   "id": "df8b3a84",
   "metadata": {},
   "outputs": [
    {
     "name": "stdout",
     "output_type": "stream",
     "text": [
      "enter he numbers:1 2 3 4 5\n",
      "list without even numbers: [1, 3, 5]\n"
     ]
    }
   ],
   "source": [
    "#REMOVING EVEN NUMBERS\n",
    "a=input(\"enter he numbers:\").split()\n",
    "num=[]\n",
    "for x in a:\n",
    "    if int(x)%2!=0:\n",
    "        num.append(int(x))\n",
    "print(\"list without even numbers:\",num)"
   ]
  },
  {
   "cell_type": "code",
   "execution_count": 15,
   "id": "503d8f9f",
   "metadata": {},
   "outputs": [
    {
     "name": "stdout",
     "output_type": "stream",
     "text": [
      "enter the of numbers:1 2 3 4 5 \n",
      "sum of the list 15\n"
     ]
    }
   ],
   "source": [
    "#FIND SUM OF THE LIST\n",
    "a=input(\"enter the of numbers:\").split()\n",
    "total=0\n",
    "for x in a:\n",
    "    total+=int(x)\n",
    "print(\"sum of the list\",total)\n"
   ]
  },
  {
   "cell_type": "code",
   "execution_count": 23,
   "id": "c3e416e7",
   "metadata": {},
   "outputs": [
    {
     "name": "stdout",
     "output_type": "stream",
     "text": [
      "Enter a string: mohammed\n",
      "{'m': 3, 'o': 1, 'h': 1, 'a': 1, 'e': 1, 'd': 1}\n"
     ]
    }
   ],
   "source": [
    "#NUMBER OF CHARACTER FREQUENCY\n",
    "input_string = input(\"Enter a string: \")\n",
    "char_count = {}\n",
    "for char in input_string:\n",
    "    if char in char_count:\n",
    "        char_count[char] += 1 \n",
    "    else:\n",
    "        char_count[char] = 1\n",
    "print(char_count)"
   ]
  },
  {
   "cell_type": "code",
   "execution_count": 25,
   "id": "5688090b",
   "metadata": {},
   "outputs": [
    {
     "name": "stdout",
     "output_type": "stream",
     "text": [
      "Enter a string: copy\n",
      "Updated string: copying\n"
     ]
    }
   ],
   "source": [
    "#END OF THE STRING ADD ING/LY\n",
    "input_string = input(\"Enter a string: \")\n",
    "if input_string.endswith('ing'):\n",
    "    result = input_string + 'ly'\n",
    "else:\n",
    "    result = input_string + 'ing'\n",
    "print(\"Updated string:\", result)\n"
   ]
  },
  {
   "cell_type": "code",
   "execution_count": 1,
   "id": "5f257d15",
   "metadata": {},
   "outputs": [
    {
     "name": "stdout",
     "output_type": "stream",
     "text": [
      "Enter the starting index :1000\n",
      "Enter the ending index :9000\n",
      "Four digits even perfect square numbers = [4624, 6084, 6400, 8464]\n"
     ]
    }
   ],
   "source": [
    "# GENERATE 4 DIGIT\n",
    "import math\n",
    "start=int(input(\"Enter the starting index :\"))\n",
    "end=int(input(\"Enter the ending index :\"))\n",
    "start=max(1000,start)\n",
    "end=min(9999,end)\n",
    "results=[]\n",
    "for i in range(start,end+1):\n",
    "    if int(math.sqrt(i)) ** 2 == i and all(int(digit) % 2 == 0 for digit in str(i)):\n",
    "        results.append(i)\n",
    "print(\"Four digits even perfect square numbers =\",results)\n"
   ]
  },
  {
   "cell_type": "code",
   "execution_count": null,
   "id": "1574baeb",
   "metadata": {},
   "outputs": [],
   "source": []
  }
 ],
 "metadata": {
  "kernelspec": {
   "display_name": "Python 3 (ipykernel)",
   "language": "python",
   "name": "python3"
  },
  "language_info": {
   "codemirror_mode": {
    "name": "ipython",
    "version": 3
   },
   "file_extension": ".py",
   "mimetype": "text/x-python",
   "name": "python",
   "nbconvert_exporter": "python",
   "pygments_lexer": "ipython3",
   "version": "3.11.5"
  }
 },
 "nbformat": 4,
 "nbformat_minor": 5
}
