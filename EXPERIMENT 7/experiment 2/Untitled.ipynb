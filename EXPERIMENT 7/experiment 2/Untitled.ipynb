{
 "cells": [
  {
   "cell_type": "code",
   "execution_count": null,
   "id": "54a3825a",
   "metadata": {},
   "outputs": [
    {
     "name": "stdout",
     "output_type": "stream",
     "text": [
      "find the area and perimeter\n",
      "1.circlr\n",
      "2.rectangle\n",
      "3.cuboid\n",
      "4.sphere\n",
      "5.exit\n",
      "Enter the values1\n",
      "enter the radius:5\n",
      "area of the circle=78.50\n",
      "perimeter of the circle=31.40\n",
      "find the area and perimeter\n",
      "1.circlr\n",
      "2.rectangle\n",
      "3.cuboid\n",
      "4.sphere\n",
      "5.exit\n",
      "Enter the values2\n",
      "enter the length of the rectangle:4\n",
      "enter breath of the reactanle:5\n",
      "area of the rectangle=20.00\n",
      "perimeter of the rectangle=18.00\n",
      "find the area and perimeter\n",
      "1.circlr\n",
      "2.rectangle\n",
      "3.cuboid\n",
      "4.sphere\n",
      "5.exit\n",
      "Enter the values3\n",
      "enter the length of cuboid: 4\n",
      "enter the breadth of cuboid: 6\n",
      "enter the height of cuboid: 1\n",
      "area of the cuboid=68.00\n",
      "perimeter of the cuboid=44.00\n",
      "find the area and perimeter\n",
      "1.circlr\n",
      "2.rectangle\n",
      "3.cuboid\n",
      "4.sphere\n",
      "5.exit\n",
      "Enter the values4\n",
      "enter the radius: 5\n",
      "area of the sphere=314.00\n",
      "perimeter of the sphere=31.40\n"
     ]
    }
   ],
   "source": [
    "# AREA OF CIRCLE CUBOID \n",
    "from GRAPHICS import circle,rectangle\n",
    "from GRAPHICS.GRAPHICS3D import cuboid,sphere\n",
    "while(1):\n",
    "    ch=int(input(\"find the area and perimeter\\n1.circlr\\n2.rectangle\\n3.cuboid\\n4.sphere\\n5.exit\\nEnter the values\"))\n",
    "    if ch==1:\n",
    "        r=float(input(\"enter the radius:\"))\n",
    "        print(f\"area of the circle={circle.area(r):.2f}\")\n",
    "        print(f\"perimeter of the circle={circle.perimeter(r):.2f}\")\n",
    "    elif ch==2:\n",
    "        l=float(input(\"enter the length of the rectangle:\"))\n",
    "        b=float(input(\"enter breath of the reactanle:\"))\n",
    "        print(f\"area of the rectangle={rectangle.r_area(l,b):.2f}\")\n",
    "        print(f\"perimeter of the rectangle={rectangle.r_perimeter(l,b):.2f}\")\n",
    "    elif ch==3:\n",
    "        l=float(input(\"enter the length of cuboid: \"))\n",
    "        b=float(input(\"enter the breadth of cuboid: \"))\n",
    "        h=float(input(\"enter the height of cuboid: \"))\n",
    "        print(f\"area of the cuboid={cuboid.cubid_area(l,b,h):.2f}\")\n",
    "        print(f\"perimeter of the cuboid={cuboid.cubid_perimeter(l,b,h):.2f}\")\n",
    "    elif ch==4:\n",
    "        r=float(input(\"enter the radius: \"))      \n",
    "        print(f\"area of the sphere={sphere.sphere_area(r):.2f}\")\n",
    "        print(f\"perimeter of the sphere={sphere.circum_sphere(r):.2f}\")\n",
    "    elif ch==5:\n",
    "        print(\"ended the operation.\")\n",
    "        break\n",
    "    else:\n",
    "        print(\"enter valid number(1-5)\")\n",
    "        \n",
    "        "
   ]
  },
  {
   "cell_type": "code",
   "execution_count": null,
   "id": "156ff794",
   "metadata": {},
   "outputs": [],
   "source": []
  }
 ],
 "metadata": {
  "kernelspec": {
   "display_name": "Python 3 (ipykernel)",
   "language": "python",
   "name": "python3"
  },
  "language_info": {
   "codemirror_mode": {
    "name": "ipython",
    "version": 3
   },
   "file_extension": ".py",
   "mimetype": "text/x-python",
   "name": "python",
   "nbconvert_exporter": "python",
   "pygments_lexer": "ipython3",
   "version": "3.11.5"
  }
 },
 "nbformat": 4,
 "nbformat_minor": 5
}
