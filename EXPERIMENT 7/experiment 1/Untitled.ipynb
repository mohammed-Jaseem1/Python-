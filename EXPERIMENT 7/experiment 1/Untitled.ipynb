{
 "cells": [
  {
   "cell_type": "code",
   "execution_count": null,
   "id": "ef15c9f1",
   "metadata": {},
   "outputs": [
    {
     "name": "stdout",
     "output_type": "stream",
     "text": [
      "1.circle\n",
      "2.rectangle\n",
      "3exit\n",
      "enter your option:1\n",
      "enter the radius of the circle:5\n",
      "area of the circle=78.50\n",
      "perimeter of the circle=31.40\n",
      "1.circle\n",
      "2.rectangle\n",
      "3exit\n",
      "enter your option:2\n",
      "enter the length of the rectangle:1\n",
      "enter the breath of the rectangle:5\n",
      "area of the rectangle=5.00\n",
      "perimeter of the rectangle=12.00\n"
     ]
    }
   ],
   "source": [
    "# AREA OF CIRCLE AND RECTANGLE USING MODULES\n",
    "import circle\n",
    "import rectangle\n",
    "while(1):\n",
    "    ch=int(input(\"1.circle\\n2.rectangle\\n3exit\\nenter your option:\"))\n",
    "    if ch==1:\n",
    "        r=float(input(\"enter the radius of the circle:\"))\n",
    "        print(f\"area of the circle={circle.circle(r):.2f}\")\n",
    "        print(f\"perimeter of the circle={circle.circleper(r):.2f}\")\n",
    "    elif ch==2:\n",
    "        l=float(input(\"enter the length of the rectangle:\"))\n",
    "        b=float(input(\"enter the breath of the rectangle:\"))\n",
    "        print(f\"area of the rectangle={rectangle.rectangle(l,b):.2f}\")\n",
    "        print(f\"perimeter of the rectangle={rectangle.rectperi(l,b):.2f}\")\n",
    "    elif ch==3:\n",
    "        print(\"exiting\")\n",
    "        break;\n",
    "    else:\n",
    "        print(\"valid number\")\n",
    "\n",
    "        "
   ]
  },
  {
   "cell_type": "code",
   "execution_count": null,
   "id": "e580f5dd",
   "metadata": {},
   "outputs": [],
   "source": []
  }
 ],
 "metadata": {
  "kernelspec": {
   "display_name": "Python 3 (ipykernel)",
   "language": "python",
   "name": "python3"
  },
  "language_info": {
   "codemirror_mode": {
    "name": "ipython",
    "version": 3
   },
   "file_extension": ".py",
   "mimetype": "text/x-python",
   "name": "python",
   "nbconvert_exporter": "python",
   "pygments_lexer": "ipython3",
   "version": "3.11.5"
  }
 },
 "nbformat": 4,
 "nbformat_minor": 5
}
