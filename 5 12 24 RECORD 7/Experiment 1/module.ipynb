{
 "cells": [
  {
   "cell_type": "code",
   "execution_count": 2,
   "id": "b8ef811a-a8f9-47c0-bd47-82d919f6fe0d",
   "metadata": {},
   "outputs": [
    {
     "name": "stdout",
     "output_type": "stream",
     "text": [
      "1.Circle\n",
      "2.Rectangle\n",
      "3.Exit\n",
      "Enter your option :1\n",
      "Enter the radius of the circle :5\n",
      "Area of the circle=78.50\n",
      "perimeter of the circle=31.40\n",
      "1.Circle\n",
      "2.Rectangle\n",
      "3.Exit\n",
      "Enter your option :2\n",
      "Enter the length of the rectangle :5\n",
      "Enter the breadth of the rectangle :6\n",
      "Area of the rectangle=30.00\n",
      "perimeter of the rectangle=22.00\n",
      "1.Circle\n",
      "2.Rectangle\n",
      "3.Exit\n",
      "Enter your option :3\n",
      "Ended the operation.\n"
     ]
    }
   ],
   "source": [
    "import circle\n",
    "import rectangle\n",
    "while(1):\n",
    "    ch=int(input(\"1.Circle\\n2.Rectangle\\n3.Exit\\nEnter your option :\"))\n",
    "    if ch==1:\n",
    "            r=float(input(\"Enter the radius of the circle :\"))\n",
    "            print(f\"Area of the circle={circle.circle(r):.2f}\")\n",
    "            print(f\"perimeter of the circle={circle.circleperi(r):.2f}\")\n",
    "    elif ch==2:\n",
    "            l=float(input(\"Enter the length of the rectangle :\"))\n",
    "            b=float(input(\"Enter the breadth of the rectangle :\"))\n",
    "            print(f\"Area of the rectangle={rectangle.rectangle(l,b):.2f}\")\n",
    "            print(f\"perimeter of the rectangle={rectangle.rectperi(l,b):.2f}\")\n",
    "    elif ch==3:\n",
    "            print(\"Ended the operation.\")\n",
    "            break;\n",
    "    else:\n",
    "            print(\"Valid number\")"
   ]
  },
  {
   "cell_type": "code",
   "execution_count": null,
   "id": "26be5ecf-5399-4dea-a677-f364760eff53",
   "metadata": {},
   "outputs": [],
   "source": []
  }
 ],
 "metadata": {
  "kernelspec": {
   "display_name": "Python 3",
   "language": "python",
   "name": "python3"
  },
  "language_info": {
   "codemirror_mode": {
    "name": "ipython",
    "version": 3
   },
   "file_extension": ".py",
   "mimetype": "text/x-python",
   "name": "python",
   "nbconvert_exporter": "python",
   "pygments_lexer": "ipython3",
   "version": "3.6.7"
  }
 },
 "nbformat": 4,
 "nbformat_minor": 5
}
