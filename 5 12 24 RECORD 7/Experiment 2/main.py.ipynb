{
 "cells": [
  {
   "cell_type": "code",
   "execution_count": 5,
   "id": "fbe86eb7-2660-4126-b093-61fba499377b",
   "metadata": {},
   "outputs": [
    {
     "name": "stdout",
     "output_type": "stream",
     "text": [
      "Find Area and perimeter\n",
      "1.Circle\n",
      "2.Rectangle\n",
      "3.Cuboid\n",
      "4.Sphere\n",
      "5.Exit\n",
      "Enter your choice :1\n",
      "Enter the radius : 5\n",
      "Area of the circle = 78.50\n",
      "Perimeter of circle =31.40\n",
      "Find Area and perimeter\n",
      "1.Circle\n",
      "2.Rectangle\n",
      "3.Cuboid\n",
      "4.Sphere\n",
      "5.Exit\n",
      "Enter your choice :2\n",
      "Enter Length of the rectangle :3\n",
      "Enter Breadth of the rectangle :4\n",
      "Area of the rectangle = 12.00\n",
      "Perimeter of rectangle =14.00\n",
      "Find Area and perimeter\n",
      "1.Circle\n",
      "2.Rectangle\n",
      "3.Cuboid\n",
      "4.Sphere\n",
      "5.Exit\n",
      "Enter your choice :3\n",
      "Enter length of the cuboid :6\n",
      "Enter breadth of the cuboid :7\n",
      "Enter height of the cuboid :8\n",
      "Area of the cuboid = 292.00\n",
      "Perimeter of rectangle =84.00\n",
      "Find Area and perimeter\n",
      "1.Circle\n",
      "2.Rectangle\n",
      "3.Cuboid\n",
      "4.Sphere\n",
      "5.Exit\n",
      "Enter your choice :4\n",
      "Enter the radius : 5\n",
      "Surface area of sphere = 314.00\n",
      "Circumference of sphere =31.40\n",
      "Find Area and perimeter\n",
      "1.Circle\n",
      "2.Rectangle\n",
      "3.Cuboid\n",
      "4.Sphere\n",
      "5.Exit\n",
      "Enter your choice :5\n",
      "Ended the operation.\n"
     ]
    }
   ],
   "source": [
    "from graphics import circle, rectangle\n",
    "from graphics.graphics3D import cuboid,sphere\n",
    "while(1):\n",
    "    ch=int(input(\"Find Area and perimeter\\n1.Circle\\n2.Rectangle\\n3.Cuboid\\n4.Sphere\\n5.Exit\\nEnter your choice :\"))\n",
    "    if ch==1:\n",
    "        r = float(input(\"Enter the radius : \"))\n",
    "        print(f\"Area of the circle = {circle.area(r):.2f}\")\n",
    "        print(f\"Perimeter of circle ={circle.perimeter(r):.2f}\")\n",
    "    elif ch==2:\n",
    "        l=float(input(\"Enter Length of the rectangle :\"))\n",
    "        b=float(input(\"Enter Breadth of the rectangle :\"))\n",
    "        print(f\"Area of the rectangle = {rectangle.r_area(l,b):.2f}\")\n",
    "        print(f\"Perimeter of rectangle ={rectangle.r_perimeter(l,b):.2f}\")\n",
    "    elif ch==3:\n",
    "        l=float(input(\"Enter length of the cuboid :\"))\n",
    "        b=float(input(\"Enter breadth of the cuboid :\"))\n",
    "        h=float(input(\"Enter height of the cuboid :\"))\n",
    "        print(f\"Area of the cuboid = {cuboid.cubid_area(l,b,h):.2f}\")\n",
    "        print(f\"Perimeter of rectangle ={cuboid.cubid_perimeter(l,b,h):.2f}\")\n",
    "    elif ch==4:\n",
    "        r = float(input(\"Enter the radius : \"))\n",
    "        print(f\"Surface area of sphere = {sphere.Sphere_area(r):.2f}\")\n",
    "        print(f\"Circumference of sphere ={sphere.circum_sphere(r):.2f}\")\n",
    "    elif ch==5:\n",
    "        print(\"Ended the operation.\")\n",
    "        break\n",
    "    else:\n",
    "        print(\"Enter valid number(1-5)\")"
   ]
  },
  {
   "cell_type": "code",
   "execution_count": null,
   "id": "403dbcd9-cb4b-4da1-aa5b-3452d376ec26",
   "metadata": {},
   "outputs": [],
   "source": []
  },
  {
   "cell_type": "code",
   "execution_count": null,
   "id": "e4e170a9",
   "metadata": {},
   "outputs": [],
   "source": []
  }
 ],
 "metadata": {
  "kernelspec": {
   "display_name": "Python 3",
   "language": "python",
   "name": "python3"
  },
  "language_info": {
   "codemirror_mode": {
    "name": "ipython",
    "version": 3
   },
   "file_extension": ".py",
   "mimetype": "text/x-python",
   "name": "python",
   "nbconvert_exporter": "python",
   "pygments_lexer": "ipython3",
   "version": "3.6.7"
  }
 },
 "nbformat": 4,
 "nbformat_minor": 5
}
