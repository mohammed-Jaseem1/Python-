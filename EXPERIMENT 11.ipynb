
{
 "cells": [
  {
   "cell_type": "code",
   "execution_count": 14,
   "id": "a4a80314",
   "metadata": {},
   "outputs": [
    {
     "name": "stdout",
     "output_type": "stream",
     "text": [
      "Enter emails and phone numbers (comma-separated): MOHAMMEDJASEEM@GMAIL.COM,75658595\n",
      "MOHAMMEDJASEEM@GMAIL.COM is a valid email.\n",
      "75658595 is invalid.\n"
     ]
    }
   ],
   "source": [
    "#EMAIL ADDRESSES AND PHONE NUMBER FROM THE USER \n",
    "import re\n",
    "\n",
    "email_regex = r'^[a-zA-Z0-9_.+-]+@[a-zA-Z0-9-]+\\.[a-zA-Z0-9-.]+$'\n",
    "phone_regex = r'^(?:\\(\\d{3}\\)\\s?|\\d{3}[\\.\\-\\s])\\d{3}[\\.\\-\\s]?\\d{4}$'\n",
    "def validate_input(user_input):\n",
    "    for item in user_input.split(','):\n",
    "        item = item.strip()\n",
    "        if re.match(email_regex, item):\n",
    "            print(f\"{item} is a valid email.\")\n",
    "        elif re.match(phone_regex, item):\n",
    "            print(f\"{item} is a valid phone number.\")\n",
    "        else:\n",
    "            print(f\"{item} is invalid.\")\n",
    "user_input = input(\"Enter emails and phone numbers (comma-separated): \")\n",
    "validate_input(user_input)\n"
   ]
  },
  {
   "cell_type": "code",
   "execution_count": null,
   "id": "7095f5a0",
   "metadata": {},
   "outputs": [],
   "source": []
  }
 ],
 "metadata": {
  "kernelspec": {
   "display_name": "Python 3 (ipykernel)",
   "language": "python",
   "name": "python3"
  },
  "language_info": {
   "codemirror_mode": {
    "name": "ipython",
    "version": 3
   },
   "file_extension": ".py",
   "mimetype": "text/x-python",
   "name": "python",
   "nbconvert_exporter": "python",
   "pygments_lexer": "ipython3",
   "version": "3.11.5"
  }
 },
 "nbformat": 4,
 "nbformat_minor": 5
}
