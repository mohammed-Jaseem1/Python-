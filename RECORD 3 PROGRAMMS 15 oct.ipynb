
{
 "cells": [
  {
   "cell_type": "code",
   "execution_count": 2,
   "id": "472ed62f",
   "metadata": {},
   "outputs": [
    {
     "name": "stdout",
     "output_type": "stream",
     "text": [
      "enter the string: PYTHON\n",
      "string is: NYTHOP\n"
     ]
    }
   ],
   "source": [
    "#EXCHANGE  STRING\n",
    "s=str(input(\"enter the string: \"))\n",
    "a=s[0]\n",
    "c=s[-1]\n",
    "b=c+s[1:-1]+a\n",
    "print(\"string is:\",b)"
   ]
  },
  {
   "cell_type": "code",
   "execution_count": 6,
   "id": "553754ba",
   "metadata": {},
   "outputs": [
    {
     "name": "stdout",
     "output_type": "stream",
     "text": [
      "enter the first string: mohammed\n",
      "enter the second string: jaseem\n",
      "result string: mohammed jaseem\n",
      "new string is : jahammed moseem\n"
     ]
    }
   ],
   "source": [
    "#A NEW STRING FROM TWO STRING AND  SWAP FIRST TWO CHARACTER\n",
    "a1=str(input(\"enter the first string: \"))\n",
    "a2=str(input(\"enter the second string: \"))\n",
    "print(\"result string:\",a1,a2)\n",
    "x=a1[0:2]\n",
    "z=a2[0:2]\n",
    "a3=z+a1[2:]\n",
    "a4=x+a2[2:]\n",
    "print(\"new string is :\",a3,a4)\n",
    "\n"
   ]
  },
  {
   "cell_type": "code",
   "execution_count": 15,
   "id": "3f6cd2a2",
   "metadata": {},
   "outputs": [
    {
     "name": "stdout",
     "output_type": "stream",
     "text": [
      "enter the string:MALAYALAM\n",
      "new string: MALAYALA$\n"
     ]
    }
   ],
   "source": [
    "#REPALCE  THE LETTER WITH $\n",
    "s=str(input(\"enter the string:\"))\n",
    "a=s[0]\n",
    "b=s[1:]\n",
    "st=b.replace(a,\"$\")\n",
    "ns=s[0] + st\n",
    "print(\"new string:\",ns)"
   ]
  },
  {
   "cell_type": "code",
   "execution_count": 2,
   "id": "7c13fde6",
   "metadata": {},
   "outputs": [
    {
     "name": "stdout",
     "output_type": "stream",
     "text": [
      "enter the color:red,black,white\n",
      "the first color: red\n",
      "the first color: white\n"
     ]
    }
   ],
   "source": [
    "#PRINT FIRST AND LAST COLOR\n",
    "s=str(input(\"enter the color:\"))\n",
    "p=s.split(\",\")\n",
    "print(\"the first color:\",p[0])\n",
    "print(\"the first color:\",p[-1])"
   ]
  },
  {
   "cell_type": "code",
   "execution_count": 4,
   "id": "4d64762a",
   "metadata": {},
   "outputs": [
    {
     "name": "stdout",
     "output_type": "stream",
     "text": [
      "enter the file name:mj.c\n",
      "THE EXTENSTION FILE IS: c\n"
     ]
    }
   ],
   "source": [
    "#FILENAME EXTENSION\n",
    "s=str(input(\"enter the file name:\"))\n",
    "p=s.split(\".\")\n",
    "print(\"THE EXTENSTION FILE IS:\",p[-1])"
   ]
  },
  {
   "cell_type": "code",
   "execution_count": 5,
   "id": "11479b93",
   "metadata": {},
   "outputs": [
    {
     "name": "stdout",
     "output_type": "stream",
     "text": [
      "enter the numbers:10,20,30,40,50,60\n",
      "3rd element: 30\n",
      "3rd element from last: 40\n"
     ]
    }
   ],
   "source": [
    "#TUPLE OF 3RD ELEMENT\n",
    "my_tuple=tuple(input(\"enter the numbers:\").split(\",\"))\n",
    "third_element = my_tuple[2]\n",
    "third_from_last = my_tuple[-3]\n",
    "print(\"3rd element:\", third_element)\n",
    "print(\"3rd element from last:\", third_from_last)\n"
   ]
  },
  {
   "cell_type": "code",
   "execution_count": 22,
   "id": "074475cf",
   "metadata": {},
   "outputs": [
    {
     "name": "stdout",
     "output_type": "stream",
     "text": [
      "Enter colors for set f : red,green,blue\n",
      "Enter colors for set s : red,green,black\n",
      "Difference of {'blue', 'red', 'green'} and {'black', 'red', 'green'}: {'blue'}\n"
     ]
    }
   ],
   "source": [
    "#COLORSET1-COLORSET2\n",
    "f = set(input(\"Enter colors for set f : \").split(\",\"))\n",
    "s = set(input(\"Enter colors for set s : \").split(\",\"))\n",
    "difference_f_s = f - s\n",
    "print(f'Difference of {f} and {s}: {difference_f_s}')\n"
   ]
  },
  {
   "cell_type": "code",
   "execution_count": 6,
   "id": "9605507b",
   "metadata": {},
   "outputs": [
    {
     "name": "stdout",
     "output_type": "stream",
     "text": [
      "enter the roll  number:1,2,3\n",
      "enter the names:MJ,JJ,JM\n",
      "dict {'1': 'MJ', '2': 'JJ', '3': 'JM'}\n",
      "sorted dict {'3': 'JM', '2': 'JJ', '1': 'MJ'}\n"
     ]
    }
   ],
   "source": [
    "#ASCENDING AND DESCENDING \n",
    "p=input(\"enter the roll  number:\").split(',')\n",
    "name=input(\"enter the names:\").split(',')\n",
    "t={p[0]:name[0],p[1]:name[1],p[2]:name[2]}\n",
    "print(\"dict\",t)\n",
    "s=dict(sorted(t.items(),reverse=True))\n",
    "print(\"sorted dict\",s)"
   ]
  },
  {
   "cell_type": "code",
   "execution_count": 8,
   "id": "226ad0fd",
   "metadata": {},
   "outputs": [
    {
     "name": "stdout",
     "output_type": "stream",
     "text": [
      "Enter the name of student 1: mohammed\n",
      "Enter the name of student 2: jasseem\n",
      "Enter the name of student 3: linto\n",
      "dic1 {'student1': 'mohammed', 'student2': 'jasseem', 'student3': 'linto'}\n",
      "Enter the name of student 4: haseena \n",
      "Enter the name of student 5: kiran\n",
      "dic2 {'student4': 'haseena ', 'student5': 'kiran'}\n",
      "\n",
      "Merged Dictionary:\n",
      "{'student1': 'mohammed', 'student2': 'jasseem', 'student3': 'linto', 'student4': 'haseena ', 'student5': 'kiran'}\n"
     ]
    }
   ],
   "source": [
    "#MERGE TO DICTIONARIES\n",
    "dic1 = {\n",
    "    'student1': input(\"Enter the name of student 1: \"),\n",
    "    'student2': input(\"Enter the name of student 2: \"),\n",
    "    'student3': input(\"Enter the name of student 3: \")\n",
    "}\n",
    "print(\"dic1\",dic1)\n",
    "dic2 = {\n",
    "    'student4': input(\"Enter the name of student 4: \"),\n",
    "    'student5': input(\"Enter the name of student 5: \")\n",
    "}\n",
    "print(\"dic2\",dic2)\n",
    "merged_dict = {**dic1, **dic2}\n",
    "print(\"\\nMerged Dictionary:\")\n",
    "print(merged_dict)"
   ]
  },
  {
   "cell_type": "code",
   "execution_count": 3,
   "id": "132b7052",
   "metadata": {},
   "outputs": [
    {
     "name": "stdout",
     "output_type": "stream",
     "text": [
      "[0, 2, 4, 6, 8, 10, 12, 14, 16, 18, 20, 22, 24]\n",
      "sum of even numbers 0-25: 156\n"
     ]
    }
   ],
   "source": [
    "#-25 EVEN NUMBERS\n",
    "num=range(0,25,2)\n",
    "print(list(num))\n",
    "print(\"sum of even numbers 0-25:\",sum(num))"
   ]
  },
  {
   "cell_type": "code",
   "execution_count": null,
   "id": "c3ec545d",
   "metadata": {},
   "outputs": [],
   "source": []
  }
 ],
 "metadata": {
  "kernelspec": {
   "display_name": "Python 3 (ipykernel)",
   "language": "python",
   "name": "python3"
  },
  "language_info": {
   "codemirror_mode": {
    "name": "ipython",
    "version": 3
   },
   "file_extension": ".py",
   "mimetype": "text/x-python",
   "name": "python",
   "nbconvert_exporter": "python",
   "pygments_lexer": "ipython3",
   "version": "3.11.5"
  }
 },
 "nbformat": 4,
 "nbformat_minor": 5
}
