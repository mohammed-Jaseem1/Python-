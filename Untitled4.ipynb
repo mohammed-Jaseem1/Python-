{
 "cells": [
  {
   "cell_type": "code",
   "execution_count": 1,
   "id": "ed36ca45",
   "metadata": {},
   "outputs": [
    {
     "name": "stdout",
     "output_type": "stream",
     "text": [
      "enter any num:12345\n",
      "15\n"
     ]
    }
   ],
   "source": [
    "\n",
    "a=int(input(\"enter any num:\"))\n",
    "g=a\n",
    "sum=0\n",
    "while(a!=0):\n",
    "    d=a%10\n",
    "    sum=sum+d\n",
    "    a=a//10\n",
    "print(sum)"
   ]
  },
  {
   "cell_type": "code",
   "execution_count": 5,
   "id": "d52c93c3",
   "metadata": {},
   "outputs": [
    {
     "name": "stdout",
     "output_type": "stream",
     "text": [
      "enter the names:malappuram,kozhikode,chenni,tirur,thrisur\n",
      "{'tirur', 'malappuram', 'thrisur', 'chenni', 'kozhikode'}\n",
      "['malappuram', 'kozhikode', 'chenni', 'tirur', 'thrisur']\n",
      "('malappuram', 'kozhikode', 'chenni', 'tirur', 'thrisur')\n",
      "{0: 'malappuram', 1: 'kozhikode', 2: 'chenni', 3: 'tirur', 4: 'thrisur'}\n"
     ]
    }
   ],
   "source": [
    "\n",
    "n=str(input(\"enter the names:\")).split(\",\")\n",
    "print(set(n))\n",
    "print(list(n))\n",
    "print(tuple(n))\n",
    "print(dict(enumerate(n)))\n"
   ]
  },
  {
   "cell_type": "code",
   "execution_count": 2,
   "id": "528a2ae8",
   "metadata": {},
   "outputs": [
    {
     "name": "stdout",
     "output_type": "stream",
     "text": [
      "enter the emp_id:1,2,3,4,5\n",
      "enter the emp_names:jaseem,linto,jishad,roshan,aswin\n",
      "sorted {'1': 'jaseem', '2': 'linto', '3': 'jishad', '4': 'roshan', '5': 'aswin'}\n",
      "decending dict {'5': 'aswin', '4': 'roshan', '3': 'jishad', '2': 'linto', '1': 'jaseem'}\n"
     ]
    }
   ],
   "source": [
    " \n",
    "p=input(\"enter the emp_id:\").split(',')\n",
    "name=input(\"enter the emp_names:\").split(',')\n",
    "t={p[0]:name[0],p[1]:name[1],p[2]:name[2],p[3]:name[3],p[4]:name[4]}\n",
    "print(\"sorted\",t)\n",
    "s=dict(sorted(t.items(),reverse=True))\n",
    "print(\"decending dict\",s)"
   ]
  },
  {
   "cell_type": "code",
   "execution_count": 24,
   "id": "b121f2dc",
   "metadata": {},
   "outputs": [
    {
     "name": "stdout",
     "output_type": "stream",
     "text": [
      "enter a number:1221\n",
      "1221 it is palendrome\n"
     ]
    }
   ],
   "source": [
    "a=int(input(\"enter a number:\"))\n",
    "b=a\n",
    "r=0\n",
    "while(a!=0):\n",
    "    d=a%10\n",
    "    r=r*10+d\n",
    "    a=a//10\n",
    "if  b==r:\n",
    "    print(f\"{b} it is palendrome\")\n",
    "else:\n",
    "    print(f\"{b} not palendrome\")"
   ]
  },
  {
   "cell_type": "code",
   "execution_count": 22,
   "id": "e957ed7f",
   "metadata": {},
   "outputs": [
    {
     "name": "stdout",
     "output_type": "stream",
     "text": [
      "enter the emp_id:1,2,3,4,5\n",
      "enter the emp_names:jjaseem,linto,jasir,roshan,kiran\n",
      " dict {'1': 'jjaseem', '2': 'linto', '3': 'jasir', '4': 'roshan', '5': 'kiran'}\n"
     ]
    }
   ],
   "source": [
    "p=input(\"enter the emp_id:\").split(',')\n",
    "name=input(\"enter the emp_names:\").split(',')\n",
    "t={p[0]:name[0],p[1]:name[1],p[2]:name[2],p[3]:name[3],p[4]:name[4]}\n",
    "s=dict(sorted(t.items()))\n",
    "print(\" dict\",s)"
   ]
  },
  {
   "cell_type": "code",
   "execution_count": null,
   "id": "0cfc12d0",
   "metadata": {},
   "outputs": [],
   "source": []
  },
  {
   "cell_type": "code",
   "execution_count": null,
   "id": "e0ecef01",
   "metadata": {},
   "outputs": [],
   "source": []
  }
 ],
 "metadata": {
  "kernelspec": {
   "display_name": "Python 3 (ipykernel)",
   "language": "python",
   "name": "python3"
  },
  "language_info": {
   "codemirror_mode": {
    "name": "ipython",
    "version": 3
   },
   "file_extension": ".py",
   "mimetype": "text/x-python",
   "name": "python",
   "nbconvert_exporter": "python",
   "pygments_lexer": "ipython3",
   "version": "3.11.5"
  }
 },
 "nbformat": 4,
 "nbformat_minor": 5
}
